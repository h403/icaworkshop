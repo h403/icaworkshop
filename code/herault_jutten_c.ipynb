{
 "cells": [
  {
   "cell_type": "code",
   "execution_count": null,
   "id": "bc4242c7-86ef-4413-9748-b08a5dd9101f",
   "metadata": {
    "tags": []
   },
   "outputs": [],
   "source": [
    "%matplotlib inline\n",
    "import numpy as np\n",
    "import matplotlib.pyplot as plt\n",
    "from ica import encode, prbs, qpsk, qam16, noise"
   ]
  },
  {
   "cell_type": "code",
   "execution_count": null,
   "id": "fb16a76d-1978-4f6c-97dc-2c885ceb5813",
   "metadata": {
    "tags": []
   },
   "outputs": [],
   "source": [
    "N, M = 2, int(4e+3) # 信号数，サンプル数 (4000ポイント)\n",
    "snr = 40 # dB 原信号レベルに対して -40 dB の雑音レベルを指定\n",
    "s = np.array([encode(prbs(int(M)),qam16) for i in range(N)]) # 16 QAM で分散 1，M サンプルの信号列を N 本生成する\n",
    "a = np.random.rand(s.shape[0],s.shape[0]) # N (=　S の行の数) x N の混合行列を作る\n",
    "a[0,0] = 0\n",
    "a[1,1] = 0\n",
    "a = np.exp(1j * 2 * np.pi * a) # 簡単のため長さ 1 の混合ベクトルに限定する\n",
    "n = noise((a.shape[0], s.shape[-1])) / 10**(snr/20) # 雑音を生成\n",
    "x = np.dot(a, s) + n # 観測信号を生成\n",
    "\n",
    "calcm = lambda m12,m21: np.array([[0,m12],[m21,0]])\n",
    "f = lambda x: (x.conj() * x) * x\n",
    "g = lambda x: x.conj()\n",
    "mu = 0.01\n",
    "dm = lambda y1, y2: mu * f(y1) * g(y2)\n",
    "\n",
    "m12, m21 = np.exp(1j*2*np.pi*0.25), np.exp(1j*2*np.pi*0.25) # 初期状態\n",
    "m = []\n",
    "e = []\n",
    "for xi in x.T:\n",
    "    y = np.dot(np.linalg.inv(np.eye(2,2) + calcm(m12,m21)), xi)\n",
    "    m12 += dm(y[0], y[1])\n",
    "    m21 += dm(y[1], y[0])\n",
    "    m.append((m12,m21))\n",
    "    y = np.dot(np.linalg.inv(np.eye(2,2) + calcm(m12,m21)), x)\n",
    "    e.append(np.dot(f(y[0,:]), g(y[1,:])).sum()/s.shape[1])\n",
    "    \n",
    "# 計算結果を出力する\n",
    "    \n",
    "z = x[0,:]\n",
    "plt.plot(np.real(z), np.imag(z), '.', markersize=1)\n",
    "z = x[1,:]\n",
    "plt.plot(np.real(z), np.imag(z), '.', markersize=1)\n",
    "plt.axis('square')\n",
    "plt.show()\n",
    "\n",
    "y = np.dot(np.linalg.inv(np.eye(2,2) + calcm(m12,m21)), x)\n",
    "plt.plot(np.real(y[0,:]), np.imag(y[0,:]), '.', markersize=1)\n",
    "plt.plot(np.real(y[1,:]), np.imag(y[1,:]), '.', markersize=1)\n",
    "plt.axis('square')\n",
    "plt.show()\n",
    "\n",
    "m = np.array(m)\n",
    "plt.plot(np.real(m[:,0]),np.imag(m[:,0]))\n",
    "plt.plot(np.real(m[:,1]),np.imag(m[:,1]))\n",
    "plt.show()\n",
    "\n",
    "base = np.abs(np.dot(f(s[0,:]), g(s[1,:])).sum()/s.shape[1])\n",
    "e = np.array(e)\n",
    "plt.plot(np.abs(e))\n",
    "plt.plot([0,len(e)],[base,base])\n",
    "plt.show()"
   ]
  },
  {
   "cell_type": "code",
   "execution_count": null,
   "id": "76981470-8ebc-42f1-aa31-c4054b6d702d",
   "metadata": {},
   "outputs": [],
   "source": []
  }
 ],
 "metadata": {
  "kernelspec": {
   "display_name": "Python 3 (ipykernel)",
   "language": "python",
   "name": "python3"
  },
  "language_info": {
   "codemirror_mode": {
    "name": "ipython",
    "version": 3
   },
   "file_extension": ".py",
   "mimetype": "text/x-python",
   "name": "python",
   "nbconvert_exporter": "python",
   "pygments_lexer": "ipython3",
   "version": "3.9.16"
  }
 },
 "nbformat": 4,
 "nbformat_minor": 5
}
